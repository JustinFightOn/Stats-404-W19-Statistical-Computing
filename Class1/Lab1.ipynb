{
 "cells": [
  {
   "cell_type": "code",
   "execution_count": 7,
   "metadata": {},
   "outputs": [],
   "source": [
    "import random"
   ]
  },
  {
   "cell_type": "code",
   "execution_count": 8,
   "metadata": {},
   "outputs": [],
   "source": [
    "def putNumber(board, x):\n",
    "    key = random.choice([keys for (keys, values) in board.items() if values == ' '])\n",
    "    board[key] = x\n",
    "    return"
   ]
  },
  {
   "cell_type": "code",
   "execution_count": 9,
   "metadata": {},
   "outputs": [],
   "source": [
    "def checkWining(board):\n",
    "    #checks the winning condition, if no win, return None\n",
    "    if (board['top-L'] == board['top-M'] and board['top-L'] == board['top-R'] and board['top-L'] != ' ') \\\n",
    "    or (board['mid-L'] == board['mid-M'] and board['mid-L'] == board['mid-R'] and board['mid-L'] != ' ') \\\n",
    "    or (board['low-L'] == board['low-M'] and board['low-L'] == board['low-R'] and board['low-L'] != ' ') \\\n",
    "    or (board['top-L'] == board['mid-L'] and board['mid-L'] == board['low-L'] and board['top-L'] != ' ') \\\n",
    "    or (board['top-M'] == board['mid-M'] and board['mid-M'] == board['low-M'] and board['top-M'] != ' ') \\\n",
    "    or (board['top-R'] == board['mid-R'] and board['mid-R'] == board['low-R'] and board['top-R'] != ' ') \\\n",
    "    or (board['top-L'] == board['mid-M'] and board['mid-M'] == board['low-R'] and board['top-L'] != ' ') \\\n",
    "    or (board['top-R'] == board['mid-M'] and board['mid-M'] == board['low-L'] and board['top-R'] != ' '):\n",
    "        return 'Win'\n",
    "    return None"
   ]
  },
  {
   "cell_type": "code",
   "execution_count": 10,
   "metadata": {},
   "outputs": [],
   "source": [
    "def printBoard(board):\n",
    "    print(board['top-L'] + '|' + board['top-M'] + '|' + board['top-R'])\n",
    "    print('-+-+-')\n",
    "    print(board['mid-L'] + '|' + board['mid-M'] + '|' + board['mid-R'])\n",
    "    print('-+-+-')\n",
    "    print(board['low-L'] + '|' + board['low-M'] + '|' + board['low-R'])"
   ]
  },
  {
   "cell_type": "code",
   "execution_count": 11,
   "metadata": {},
   "outputs": [],
   "source": [
    "def playGame():\n",
    "    theBoard = {'top-L': ' ',\n",
    "          'top-M': ' ',\n",
    "          'top-R': ' ',\n",
    "          'mid-L': ' ',\n",
    "          'mid-M': ' ',\n",
    "          'mid-R': ' ',\n",
    "          'low-L': ' ',\n",
    "          'low-M': ' ',\n",
    "          'low-R': ' '\n",
    "         }\n",
    "    for i in range(9):\n",
    "        # Even for X, Odd for O\n",
    "        turn = 'X' if i % 2 == 0 else 'O'\n",
    "        putNumber(theBoard, turn)\n",
    "        if checkWining(theBoard) == 'Win':\n",
    "            print(f'Winner is {turn}')\n",
    "            printBoard(theBoard)\n",
    "            break\n",
    "        if i == 8:\n",
    "            print('Game is Tie')\n",
    "            printBoard(theBoard)"
   ]
  },
  {
   "cell_type": "code",
   "execution_count": 21,
   "metadata": {},
   "outputs": [
    {
     "name": "stdout",
     "output_type": "stream",
     "text": [
      "Winner is O\n",
      "O|X|X\n",
      "-+-+-\n",
      "O|O|X\n",
      "-+-+-\n",
      "X| |O\n"
     ]
    }
   ],
   "source": [
    "playGame()"
   ]
  }
 ],
 "metadata": {
  "kernelspec": {
   "display_name": "project1",
   "language": "python",
   "name": "project1"
  },
  "language_info": {
   "codemirror_mode": {
    "name": "ipython",
    "version": 3
   },
   "file_extension": ".py",
   "mimetype": "text/x-python",
   "name": "python",
   "nbconvert_exporter": "python",
   "pygments_lexer": "ipython3",
   "version": "3.6.6"
  }
 },
 "nbformat": 4,
 "nbformat_minor": 2
}
